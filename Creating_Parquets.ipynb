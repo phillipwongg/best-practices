{
 "cells": [
  {
   "cell_type": "code",
   "execution_count": 1,
   "metadata": {},
   "outputs": [],
   "source": [
    "%matplotlib inline\n",
    "import intake\n",
    "from intake import open_catalog"
   ]
  },
  {
   "cell_type": "markdown",
   "metadata": {},
   "source": [
    "For Parquet files, since they are a more compressed version of CSV files and thanks to pandas, we can use the same YAML file as we used for local CSVs. Pandas allows us the ability to convert CSV files to Parquet files using a simple command line. We are also still able to call on our catalog to read in the CSV files and convert them to Parquet files. After creating the Parquet Files, we can then create a new YAML file that can include the Parquet files in a new catalog."
   ]
  },
  {
   "cell_type": "code",
   "execution_count": 2,
   "metadata": {},
   "outputs": [
    {
     "name": "stdout",
     "output_type": "stream",
     "text": [
      "['la_county', 'county_fuel', 'alternative_fuel', 'la_city', 'walkability']\n"
     ]
    }
   ],
   "source": [
    "catalog = intake.open_catalog('local_csv.yml') #reading in new YAML file with updated data\n",
    "print(list(catalog))"
   ]
  },
  {
   "cell_type": "markdown",
   "metadata": {},
   "source": [
    "Now I can create dataframes for my four sources of data. "
   ]
  },
  {
   "cell_type": "code",
   "execution_count": 3,
   "metadata": {},
   "outputs": [],
   "source": [
    "df1 = catalog.la_county\n",
    "county_bound = catalog.la_county.read()"
   ]
  },
  {
   "cell_type": "code",
   "execution_count": 4,
   "metadata": {},
   "outputs": [],
   "source": [
    "df2 = catalog.county_fuel\n",
    "county_fuel = catalog.county_fuel.read()"
   ]
  },
  {
   "cell_type": "code",
   "execution_count": 5,
   "metadata": {},
   "outputs": [],
   "source": [
    "df3 = catalog.alternative_fuel\n",
    "alternative = catalog.alternative_fuel.read()"
   ]
  },
  {
   "cell_type": "code",
   "execution_count": 6,
   "metadata": {},
   "outputs": [],
   "source": [
    "d4 = catalog.la_city\n",
    "city = catalog.la_city.read()"
   ]
  },
  {
   "cell_type": "code",
   "execution_count": 7,
   "metadata": {},
   "outputs": [],
   "source": [
    "df5 = catalog.walkability\n",
    "walk = catalog.walkability.read()"
   ]
  },
  {
   "cell_type": "markdown",
   "metadata": {},
   "source": [
    "These dataframes allow me to use pandas \"to_parquet\" to convert the csv files into parquet files. Since Parquet files aren't necessarily commonly accessible, converting from CSVs using pandas is a quick and efficient way to utilize the Parquet file format."
   ]
  },
  {
   "cell_type": "code",
   "execution_count": 8,
   "metadata": {},
   "outputs": [],
   "source": [
    "import pandas as pd\n",
    "county_bound.to_parquet('county_boundary.parquet')\n",
    "county_fuel.to_parquet('county_fueling_stations.parquet')\n",
    "alternative.to_parquet('alternative_fueling_stations.parquet')\n",
    "city.to_parquet('city_boundary.parquet')\n",
    "walk.to_parquet('Walkability_Index_Score_2012.parquet')"
   ]
  },
  {
   "cell_type": "markdown",
   "metadata": {},
   "source": [
    "Having created my parquet files from the CSVs, I can now create a new YAML file. I will then import this new YAML file to create a new catalog. From this catalog I can call upon the different Parquet files and continue with my analysis."
   ]
  },
  {
   "cell_type": "code",
   "execution_count": 9,
   "metadata": {},
   "outputs": [
    {
     "name": "stdout",
     "output_type": "stream",
     "text": [
      "['la_county', 'county_fuel', 'alternative_fuel', 'la_city', 'walkability']\n"
     ]
    }
   ],
   "source": [
    "catalog1 = intake.open_catalog('parquet.yml') #reading in new YAML file with updated data\n",
    "print(list(catalog))"
   ]
  },
  {
   "cell_type": "markdown",
   "metadata": {},
   "source": [
    "Again, I will create dataframes with my data sources."
   ]
  },
  {
   "cell_type": "code",
   "execution_count": 10,
   "metadata": {},
   "outputs": [],
   "source": [
    "frame1 = catalog1.la_county\n",
    "county = catalog1.la_county.get()"
   ]
  },
  {
   "cell_type": "code",
   "execution_count": 11,
   "metadata": {},
   "outputs": [],
   "source": [
    "frame2 = catalog1.county_fuel\n",
    "county_stations = catalog1.county_fuel.get()"
   ]
  },
  {
   "cell_type": "code",
   "execution_count": 12,
   "metadata": {},
   "outputs": [],
   "source": [
    "frame3 = catalog1.alternative_fuel\n",
    "alt_fuel = catalog1.alternative_fuel.get()"
   ]
  },
  {
   "cell_type": "code",
   "execution_count": 15,
   "metadata": {},
   "outputs": [
    {
     "data": {
      "text/plain": [
       ":NdOverlay   [Variable]\n",
       "   :Curve   [index]   (value)"
      ]
     },
     "execution_count": 15,
     "metadata": {},
     "output_type": "execute_result"
    }
   ],
   "source": [
    "frame4 = catalog1.la_city\n",
    "city = catalog1.la_city.get()\n",
    "city.hvplot()"
   ]
  },
  {
   "cell_type": "code",
   "execution_count": 14,
   "metadata": {},
   "outputs": [
    {
     "name": "stderr",
     "output_type": "stream",
     "text": [
      "WARNING:param.main: hvPlot does not have the concept of axes, and the ax keyword will be ignored. Compose plots with the * operator to overlay plots or the + operator to lay out plots beside each other instead.\n",
      "WARNING:param.main: linewidth option not found for line plot; similar options include: ['line_width', 'width', 'line_dash']\n",
      "WARNING:param.main: hvPlot does not have the concept of axes, and the ax keyword will be ignored. Compose plots with the * operator to overlay plots or the + operator to lay out plots beside each other instead.\n",
      "WARNING:param.main: linewidth option not found for line plot; similar options include: ['line_width', 'width', 'line_dash']\n",
      "WARNING:param.main: hvPlot does not have the concept of axes, and the ax keyword will be ignored. Compose plots with the * operator to overlay plots or the + operator to lay out plots beside each other instead.\n",
      "WARNING:param.main: linewidth option not found for line plot; similar options include: ['line_width', 'width', 'line_dash']\n",
      "WARNING:param.main: hvPlot does not have the concept of axes, and the ax keyword will be ignored. Compose plots with the * operator to overlay plots or the + operator to lay out plots beside each other instead.\n",
      "WARNING:param.main: linewidth option not found for line plot; similar options include: ['line_width', 'width', 'line_dash']\n"
     ]
    },
    {
     "data": {
      "text/plain": [
       ":NdOverlay   [Variable]\n",
       "   :Curve   [index]   (value)"
      ]
     },
     "execution_count": 14,
     "metadata": {},
     "output_type": "execute_result"
    },
    {
     "data": {
      "image/png": "[encoded data removed]",
      "text/plain": [
       "<Figure size 1152x1152 with 1 Axes>"
      ]
     },
     "metadata": {
      "needs_background": "light"
     },
     "output_type": "display_data"
    }
   ],
   "source": [
    "import matplotlib.pyplot as plt\n",
    "fig, ax = plt.subplots(1, figsize=(16,16))\n",
    "county.plot(ax=ax, color='darkgreen', alpha=0.2, linewidth=1)\n",
    "city.plot(ax=ax, color='blue', alpha=0.2, linewidth=1)\n",
    "county_stations.plot(ax=ax, color = 'red', alpha = 0.2, linewidth=1)\n",
    "alt_fuel.plot(ax=ax, color = 'black', alpha = 0.2, linewidth=1)"
   ]
  },
  {
   "cell_type": "code",
   "execution_count": null,
   "metadata": {},
   "outputs": [],
   "source": []
  }
 ],
 "metadata": {
  "kernelspec": {
   "display_name": "Python 3",
   "language": "python",
   "name": "python3"
  },
  "language_info": {
   "codemirror_mode": {
    "name": "ipython",
    "version": 3
   },
   "file_extension": ".py",
   "mimetype": "text/x-python",
   "name": "python",
   "nbconvert_exporter": "python",
   "pygments_lexer": "ipython3",
   "version": "3.7.3"
  }
 },
 "nbformat": 4,
 "nbformat_minor": 4
}
