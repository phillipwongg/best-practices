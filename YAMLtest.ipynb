{
 "cells": [
  {
   "cell_type": "code",
   "execution_count": 2,
   "metadata": {},
   "outputs": [],
   "source": [
    "import yaml"
   ]
  },
  {
   "cell_type": "code",
   "execution_count": 2,
   "metadata": {},
   "outputs": [],
   "source": [
    "#YAML File with Local GeoJSON\n",
    "data = dict( \n",
    "    metadata = dict(\n",
    "        version = 1),\n",
    "    sources = dict( \n",
    "        parking_data = dict(\n",
    "            driver = 'dcat', #driver is the absolute class path to use for the data source; essentially a direction for how to load the data\n",
    "            args = dict(  #args are the keyword arugments to the init method of the driver\n",
    "                url = 'http://geohub.lacity.org/data.json', \n",
    "                name = 'parking_ride_data',\n",
    "                items = dict ( walkability = 'Walkability_Index_Score_2012.geojson',\n",
    "                             phys_act = 'Physical_Activity_18__Over_20112012.geojson'))\n",
    "        )\n",
    "       \n",
    "    ))\n",
    "\n",
    "    \n",
    "with open('parking_metro.yml', 'w') as outfile:\n",
    "    yaml.dump(data, outfile, default_flow_style=False, sort_keys=False)"
   ]
  },
  {
   "cell_type": "code",
   "execution_count": 10,
   "metadata": {},
   "outputs": [],
   "source": [
    "#YAML File with Remote GeoJSON Files\n",
    "data = dict( \n",
    "    metadata = dict(\n",
    "        version = 1),\n",
    "    sources = dict(\n",
    "        walk_phys_data = dict(\n",
    "            driver = 'dcat',\n",
    "            args = dict(\n",
    "                url = 'http://geohub.lacity.org/data.json', \n",
    "                name = 'walk_phys_data',\n",
    "                items = dict ( walkability = 'http://geohub.lacity.org/datasets/fa7fbd24668f411587f9b5a8794562aa_0',\n",
    "                             phys_act = 'http://geohub.lacity.org/datasets/620fc40aad31499cae66f9b7c0baa387_0'))\n",
    "        )\n",
    "       \n",
    "    ))\n",
    "\n",
    "    \n",
    "with open('walk_phys.yml', 'w') as outfile:\n",
    "    yaml.dump(data, outfile, default_flow_style=False, sort_keys=False)"
   ]
  },
  {
   "cell_type": "code",
   "execution_count": 9,
   "metadata": {},
   "outputs": [],
   "source": [
    "data = dict( \n",
    "    metadata = dict(\n",
    "        version = 1),\n",
    "    sources = dict(\n",
    "        walking_data = dict(\n",
    "            driver = 'csv',\n",
    "            args = dict(\n",
    "                urlpath = \n",
    "                name = 'walking_data',\n",
    "                items = dict ( walkability = 'Walkability_Index_Score_2012.csv',\n",
    "                             phys_act = 'Physical_Activity_18__Over_20112012.csv'))\n",
    "        )\n",
    "       \n",
    "    ))\n",
    "\n",
    "    \n",
    "with open('walking_data.yml', 'w') as outfile:\n",
    "    yaml.dump(data, outfile, default_flow_style=False, sort_keys=False)"
   ]
  },
  {
   "cell_type": "code",
   "execution_count": 6,
   "metadata": {},
   "outputs": [],
   "source": [
    "data = dict(\n",
    "metadata = dict(\n",
    "        version = 1),\n",
    "    sources = dict(\n",
    "        build_permit_data = dict(\n",
    "            driver = 'dcat',\n",
    "            args = dict(\n",
    "                urlpath = 'https://data.lacity.org' ))))\n",
    "\n",
    "with open('testing.yml', 'w') as outfile:\n",
    "    yaml.dump(data, outfile, default_flow_style=False, sort_keys=False)"
   ]
  },
  {
   "cell_type": "code",
   "execution_count": 3,
   "metadata": {},
   "outputs": [],
   "source": [
    "data = dict(\n",
    "metadata = dict(\n",
    "        version = 1),\n",
    "    sources = dict(\n",
    "        build_permit_data = dict(\n",
    "            driver = 'dcat',\n",
    "            args = dict(\n",
    "                urlpath = 'https://data.lacity.org' ))))\n",
    "\n",
    "with open('dcat_remote_csv.yml', 'w') as outfile:\n",
    "    yaml.dump(data, outfile, default_flow_style=False, sort_keys=False)"
   ]
  },
  {
   "cell_type": "code",
   "execution_count": 4,
   "metadata": {},
   "outputs": [],
   "source": [
    "data = dict(\n",
    "metadata = dict(\n",
    "        version = 1),\n",
    "    sources = dict(\n",
    "        build_permit_data = dict(\n",
    "            driver = 'dcat',\n",
    "            args = dict(\n",
    "                urlpath = 'https://data.lacity.org' ))))\n",
    "\n",
    "with open('local_shp.yml', 'w') as outfile:\n",
    "    yaml.dump(data, outfile, default_flow_style=False, sort_keys=False)"
   ]
  },
  {
   "cell_type": "code",
   "execution_count": 5,
   "metadata": {},
   "outputs": [],
   "source": [
    "data = dict(\n",
    "metadata = dict(\n",
    "        version = 1),\n",
    "    sources = dict(\n",
    "        build_permit_data = dict(\n",
    "            driver = 'dcat',\n",
    "            args = dict(\n",
    "                urlpath = 'https://data.lacity.org' ))))\n",
    "\n",
    "with open('remote_shp.yml', 'w') as outfile:\n",
    "    yaml.dump(data, outfile, default_flow_style=False, sort_keys=False)"
   ]
  },
  {
   "cell_type": "code",
   "execution_count": 6,
   "metadata": {},
   "outputs": [],
   "source": [
    "data = dict(\n",
    "metadata = dict(\n",
    "        version = 1),\n",
    "    sources = dict(\n",
    "        build_permit_data = dict(\n",
    "            driver = 'dcat',\n",
    "            args = dict(\n",
    "                urlpath = 'https://data.lacity.org' ))))\n",
    "\n",
    "with open('parquet.yml', 'w') as outfile:\n",
    "    yaml.dump(data, outfile, default_flow_style=False, sort_keys=False)"
   ]
  },
  {
   "cell_type": "code",
   "execution_count": 7,
   "metadata": {},
   "outputs": [],
   "source": [
    "data = dict(\n",
    "metadata = dict(\n",
    "        version = 1),\n",
    "    sources = dict(\n",
    "        build_permit_data = dict(\n",
    "            driver = 'dcat',\n",
    "            args = dict(\n",
    "                urlpath = 'https://data.lacity.org' ))))\n",
    "\n",
    "with open('intake_demo_catalog.yml', 'w') as outfile:\n",
    "    yaml.dump(data, outfile, default_flow_style=False, sort_keys=False)"
   ]
  },
  {
   "cell_type": "code",
   "execution_count": null,
   "metadata": {},
   "outputs": [],
   "source": []
  }
 ],
 "metadata": {
  "kernelspec": {
   "display_name": "Python 3",
   "language": "python",
   "name": "python3"
  },
  "language_info": {
   "codemirror_mode": {
    "name": "ipython",
    "version": 3
   },
   "file_extension": ".py",
   "mimetype": "text/x-python",
   "name": "python",
   "nbconvert_exporter": "python",
   "pygments_lexer": "ipython3",
   "version": "3.7.3"
  }
 },
 "nbformat": 4,
 "nbformat_minor": 4
}
