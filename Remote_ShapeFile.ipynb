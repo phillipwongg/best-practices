{
 "cells": [
  {
   "cell_type": "code",
   "execution_count": 6,
   "metadata": {},
   "outputs": [],
   "source": [
    "%matplotlib inline\n",
    "import intake\n",
    "from intake import open_catalog"
   ]
  },
  {
   "cell_type": "markdown",
   "metadata": {},
   "source": [
    "Remote Shapefiles from the geohub and data.lacity.org are typically contained within zip files. Instead of downloading the shapefile outright, we have to first download the zip file. Luckily, the driver we will use in our new YAML file is capable of understanding zip files. Our goal is to read and parse shapefiles so we will include in the YAML file: \"driver: shapefile\". This driver again serves as a guideline for how we want our dta to be interpreted. The shapefile driver is capable of reading our remote zip files that are located in the remote geohub JSON file. Using the shapefile driver and setting our urlpath to the zip file download url will allow us to create a catalog with our desired file types."
   ]
  },
  {
   "cell_type": "code",
   "execution_count": 7,
   "metadata": {},
   "outputs": [
    {
     "name": "stdout",
     "output_type": "stream",
     "text": [
      "['build_permit_data']\n"
     ]
    }
   ],
   "source": [
    "catalog = intake.open_catalog('remote_shp.yml') #reading in new YAML file with updated data\n",
    "print(list(catalog))"
   ]
  },
  {
   "cell_type": "markdown",
   "metadata": {},
   "source": [
    "Once we create a new catalog from our YAML file, we can then continue with a similar process to the other file types. We can create a dataframe from a specific datasource in our catalog and continue to analyze that information. "
   ]
  },
  {
   "cell_type": "code",
   "execution_count": 11,
   "metadata": {},
   "outputs": [
    {
     "data": {
      "text/plain": [
       "<matplotlib.axes._subplots.AxesSubplot at 0x7f41418de978>"
      ]
     },
     "execution_count": 11,
     "metadata": {},
     "output_type": "execute_result"
    },
    {
     "data": {
      "image/png": "[encoded data removed]",
      "text/plain": [
       "<Figure size 432x288 with 1 Axes>"
      ]
     },
     "metadata": {
      "needs_background": "light"
     },
     "output_type": "display_data"
    }
   ],
   "source": [
    "geohub = catalog.build_permit_data\n",
    "build = catalog.build_permit_data.read()\n",
    "build.head()\n",
    "build.plot()"
   ]
  },
  {
   "cell_type": "code",
   "execution_count": null,
   "metadata": {},
   "outputs": [],
   "source": []
  }
 ],
 "metadata": {
  "kernelspec": {
   "display_name": "Python 3",
   "language": "python",
   "name": "python3"
  },
  "language_info": {
   "codemirror_mode": {
    "name": "ipython",
    "version": 3
   },
   "file_extension": ".py",
   "mimetype": "text/x-python",
   "name": "python",
   "nbconvert_exporter": "python",
   "pygments_lexer": "ipython3",
   "version": "3.7.3"
  }
 },
 "nbformat": 4,
 "nbformat_minor": 4
}
