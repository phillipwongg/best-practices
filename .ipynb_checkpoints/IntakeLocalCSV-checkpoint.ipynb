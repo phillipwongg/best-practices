{
 "cells": [
  {
   "cell_type": "code",
   "execution_count": 1,
   "metadata": {},
   "outputs": [],
   "source": [
    "%matplotlib inline\n",
    "import intake\n",
    "from intake import open_catalog"
   ]
  },
  {
   "cell_type": "raw",
   "metadata": {},
   "source": [
    "Creating a catalog based on a YAML file that draws on the open data and geohub data."
   ]
  },
  {
   "cell_type": "code",
   "execution_count": 2,
   "metadata": {},
   "outputs": [
    {
     "name": "stdout",
     "output_type": "stream",
     "text": [
      "['walking_data', 'phys_act_data']\n"
     ]
    }
   ],
   "source": [
    "catalog = intake.open_catalog('walking_data.yml') #reading in new YAML file with updated data\n",
    "print(list(catalog))"
   ]
  },
  {
   "cell_type": "raw",
   "metadata": {},
   "source": [
    "For extracting the data from the local CSVs, there are a few options: 1) Use geopandas to create new dataframes from the csv files themselves or 2) Use the existing catalog in order to pull out readable data that can be translated into a dataframe. Using geopandas is a reasonable solution, but it isn't the most efficient. The catalog created from the YAML file in the previous step already has the data in it and allows us to hide the code within the catalog without having to reproduce it. Editing the YAML file to include \"driver: csv\" and the \"urlpath\" under \"args\" will allow us to call upon our local csvs within the catalog. Even though geopandas only involves one or two more lines of code than the catalog, our emphasis is to increase reproducability and efficiency across departments so we should try avoiding including unnecessary boilerplate code at the beginning.\n",
    "\n",
    "As shown here, we call on the catalog to read our walking data and our physical activity data into memory."
   ]
  },
  {
   "cell_type": "code",
   "execution_count": 5,
   "metadata": {},
   "outputs": [
    {
     "data": {
      "text/html": [
       "<div>\n",
       "<style scoped>\n",
       "    .dataframe tbody tr th:only-of-type {\n",
       "        vertical-align: middle;\n",
       "    }\n",
       "\n",
       "    .dataframe tbody tr th {\n",
       "        vertical-align: top;\n",
       "    }\n",
       "\n",
       "    .dataframe thead th {\n",
       "        text-align: right;\n",
       "    }\n",
       "</style>\n",
       "<table border=\"1\" class=\"dataframe\">\n",
       "  <thead>\n",
       "    <tr style=\"text-align: right;\">\n",
       "      <th></th>\n",
       "      <th>OBJECTID</th>\n",
       "      <th>TOT_SQFT</th>\n",
       "      <th>GEOID10</th>\n",
       "      <th>GEOID10_1</th>\n",
       "      <th>LU_Diversi</th>\n",
       "      <th>LUDiv_Z</th>\n",
       "      <th>Intersecti</th>\n",
       "      <th>Inter_Z</th>\n",
       "      <th>Ret_Den</th>\n",
       "      <th>Ret_Z</th>\n",
       "      <th>Res_Den</th>\n",
       "      <th>Res_Z</th>\n",
       "      <th>Walkabilit</th>\n",
       "      <th>Walkabil_1</th>\n",
       "    </tr>\n",
       "  </thead>\n",
       "  <tbody>\n",
       "    <tr>\n",
       "      <th>0</th>\n",
       "      <td>1001</td>\n",
       "      <td>39545057</td>\n",
       "      <td>6037113102</td>\n",
       "      <td>6037113102</td>\n",
       "      <td>0.317425</td>\n",
       "      <td>-0.761840</td>\n",
       "      <td>90.953134</td>\n",
       "      <td>-1.203952</td>\n",
       "      <td>0.240255</td>\n",
       "      <td>-0.470025</td>\n",
       "      <td>1.936319</td>\n",
       "      <td>-0.473851</td>\n",
       "      <td>-2.909668</td>\n",
       "      <td>-4.113621</td>\n",
       "    </tr>\n",
       "    <tr>\n",
       "      <th>1</th>\n",
       "      <td>1002</td>\n",
       "      <td>19229823</td>\n",
       "      <td>6037113322</td>\n",
       "      <td>6037113322</td>\n",
       "      <td>0.340570</td>\n",
       "      <td>-0.604300</td>\n",
       "      <td>146.112611</td>\n",
       "      <td>-0.586049</td>\n",
       "      <td>0.210475</td>\n",
       "      <td>-0.481902</td>\n",
       "      <td>4.287649</td>\n",
       "      <td>-0.446142</td>\n",
       "      <td>-2.118393</td>\n",
       "      <td>-2.704443</td>\n",
       "    </tr>\n",
       "    <tr>\n",
       "      <th>2</th>\n",
       "      <td>1003</td>\n",
       "      <td>24429933</td>\n",
       "      <td>6037113301</td>\n",
       "      <td>6037113301</td>\n",
       "      <td>0.485641</td>\n",
       "      <td>0.383155</td>\n",
       "      <td>104.906389</td>\n",
       "      <td>-1.047646</td>\n",
       "      <td>1.260764</td>\n",
       "      <td>-0.063011</td>\n",
       "      <td>3.821418</td>\n",
       "      <td>-0.451636</td>\n",
       "      <td>-1.179139</td>\n",
       "      <td>-2.226785</td>\n",
       "    </tr>\n",
       "    <tr>\n",
       "      <th>3</th>\n",
       "      <td>1</td>\n",
       "      <td>61700812</td>\n",
       "      <td>6037106510</td>\n",
       "      <td>6037106510</td>\n",
       "      <td>0.286888</td>\n",
       "      <td>-0.969699</td>\n",
       "      <td>38.860580</td>\n",
       "      <td>-1.787499</td>\n",
       "      <td>0.322552</td>\n",
       "      <td>-0.437202</td>\n",
       "      <td>28.712246</td>\n",
       "      <td>-0.158316</td>\n",
       "      <td>-3.352716</td>\n",
       "      <td>-5.140215</td>\n",
       "    </tr>\n",
       "    <tr>\n",
       "      <th>4</th>\n",
       "      <td>2</td>\n",
       "      <td>22445154</td>\n",
       "      <td>6037106406</td>\n",
       "      <td>6037106406</td>\n",
       "      <td>0.453006</td>\n",
       "      <td>0.161020</td>\n",
       "      <td>142.846933</td>\n",
       "      <td>-0.622632</td>\n",
       "      <td>0.360047</td>\n",
       "      <td>-0.422248</td>\n",
       "      <td>7.836378</td>\n",
       "      <td>-0.404323</td>\n",
       "      <td>-1.288183</td>\n",
       "      <td>-1.910814</td>\n",
       "    </tr>\n",
       "  </tbody>\n",
       "</table>\n",
       "</div>"
      ],
      "text/plain": [
       "   OBJECTID  TOT_SQFT     GEOID10   GEOID10_1  LU_Diversi   LUDiv_Z  \\\n",
       "0      1001  39545057  6037113102  6037113102    0.317425 -0.761840   \n",
       "1      1002  19229823  6037113322  6037113322    0.340570 -0.604300   \n",
       "2      1003  24429933  6037113301  6037113301    0.485641  0.383155   \n",
       "3         1  61700812  6037106510  6037106510    0.286888 -0.969699   \n",
       "4         2  22445154  6037106406  6037106406    0.453006  0.161020   \n",
       "\n",
       "   Intersecti   Inter_Z   Ret_Den     Ret_Z    Res_Den     Res_Z  Walkabilit  \\\n",
       "0   90.953134 -1.203952  0.240255 -0.470025   1.936319 -0.473851   -2.909668   \n",
       "1  146.112611 -0.586049  0.210475 -0.481902   4.287649 -0.446142   -2.118393   \n",
       "2  104.906389 -1.047646  1.260764 -0.063011   3.821418 -0.451636   -1.179139   \n",
       "3   38.860580 -1.787499  0.322552 -0.437202  28.712246 -0.158316   -3.352716   \n",
       "4  142.846933 -0.622632  0.360047 -0.422248   7.836378 -0.404323   -1.288183   \n",
       "\n",
       "   Walkabil_1  \n",
       "0   -4.113621  \n",
       "1   -2.704443  \n",
       "2   -2.226785  \n",
       "3   -5.140215  \n",
       "4   -1.910814  "
      ]
     },
     "execution_count": 5,
     "metadata": {},
     "output_type": "execute_result"
    }
   ],
   "source": [
    "source1 = catalog.walking_data\n",
    "walking_data = catalog.walking_data.read()\n",
    "walking_data.head()"
   ]
  },
  {
   "cell_type": "code",
   "execution_count": 6,
   "metadata": {},
   "outputs": [
    {
     "data": {
      "text/html": [
       "<div>\n",
       "<style scoped>\n",
       "    .dataframe tbody tr th:only-of-type {\n",
       "        vertical-align: middle;\n",
       "    }\n",
       "\n",
       "    .dataframe tbody tr th {\n",
       "        vertical-align: top;\n",
       "    }\n",
       "\n",
       "    .dataframe thead th {\n",
       "        text-align: right;\n",
       "    }\n",
       "</style>\n",
       "<table border=\"1\" class=\"dataframe\">\n",
       "  <thead>\n",
       "    <tr style=\"text-align: right;\">\n",
       "      <th></th>\n",
       "      <th>OBJECTID</th>\n",
       "      <th>ZIPCODE</th>\n",
       "      <th>Zip_code</th>\n",
       "      <th>PAdPhysAct</th>\n",
       "      <th>PAdPhysA_1</th>\n",
       "      <th>NAdPhysAct</th>\n",
       "      <th>Pop_18olde</th>\n",
       "    </tr>\n",
       "  </thead>\n",
       "  <tbody>\n",
       "    <tr>\n",
       "      <th>0</th>\n",
       "      <td>1</td>\n",
       "      <td>90001</td>\n",
       "      <td>90001</td>\n",
       "      <td>0.346</td>\n",
       "      <td>34.6</td>\n",
       "      <td>14462.8</td>\n",
       "      <td>41800</td>\n",
       "    </tr>\n",
       "    <tr>\n",
       "      <th>1</th>\n",
       "      <td>2</td>\n",
       "      <td>90002</td>\n",
       "      <td>90002</td>\n",
       "      <td>0.355</td>\n",
       "      <td>35.5</td>\n",
       "      <td>13454.5</td>\n",
       "      <td>37900</td>\n",
       "    </tr>\n",
       "    <tr>\n",
       "      <th>2</th>\n",
       "      <td>3</td>\n",
       "      <td>90003</td>\n",
       "      <td>90003</td>\n",
       "      <td>0.359</td>\n",
       "      <td>35.9</td>\n",
       "      <td>14683.1</td>\n",
       "      <td>40900</td>\n",
       "    </tr>\n",
       "    <tr>\n",
       "      <th>3</th>\n",
       "      <td>4</td>\n",
       "      <td>90004</td>\n",
       "      <td>90004</td>\n",
       "      <td>0.392</td>\n",
       "      <td>39.2</td>\n",
       "      <td>18855.2</td>\n",
       "      <td>48100</td>\n",
       "    </tr>\n",
       "    <tr>\n",
       "      <th>4</th>\n",
       "      <td>5</td>\n",
       "      <td>90005</td>\n",
       "      <td>90005</td>\n",
       "      <td>0.399</td>\n",
       "      <td>39.9</td>\n",
       "      <td>12608.4</td>\n",
       "      <td>31600</td>\n",
       "    </tr>\n",
       "  </tbody>\n",
       "</table>\n",
       "</div>"
      ],
      "text/plain": [
       "   OBJECTID  ZIPCODE  Zip_code  PAdPhysAct  PAdPhysA_1  NAdPhysAct  Pop_18olde\n",
       "0         1    90001     90001       0.346        34.6     14462.8       41800\n",
       "1         2    90002     90002       0.355        35.5     13454.5       37900\n",
       "2         3    90003     90003       0.359        35.9     14683.1       40900\n",
       "3         4    90004     90004       0.392        39.2     18855.2       48100\n",
       "4         5    90005     90005       0.399        39.9     12608.4       31600"
      ]
     },
     "execution_count": 6,
     "metadata": {},
     "output_type": "execute_result"
    }
   ],
   "source": [
    "source2 = catalog.phys_act_data\n",
    "phys_act = catalog.phys_act_data.read()\n",
    "phys_act.head()"
   ]
  },
  {
   "cell_type": "raw",
   "metadata": {},
   "source": [
    "Once we have the data we are looking to extract from our catalog, we can then use matplotlib to visually lay out our data. We can also use various tools to conduct specific analysis on the data depending on what our hypotheses and questions of interest are."
   ]
  },
  {
   "cell_type": "code",
   "execution_count": 8,
   "metadata": {},
   "outputs": [
    {
     "data": {
      "text/plain": [
       "<matplotlib.axes._subplots.AxesSubplot at 0x7f0ec4252e10>"
      ]
     },
     "execution_count": 8,
     "metadata": {},
     "output_type": "execute_result"
    },
    {
     "data": {
      "image/png": "[encoded data removed]",
      "text/plain": [
       "<Figure size 1152x1152 with 1 Axes>"
      ]
     },
     "metadata": {
      "needs_background": "light"
     },
     "output_type": "display_data"
    }
   ],
   "source": [
    "import matplotlib.pyplot as plt\n",
    "fig, ax = plt.subplots(1, figsize=(16,16))\n",
    "walking_data.plot(ax=ax, color='darkgreen', alpha=0.2, linewidth=1)\n",
    "phys_act.plot(ax=ax, color = 'pink', alpha = 0.2, linewidth=1)"
   ]
  },
  {
   "cell_type": "code",
   "execution_count": null,
   "metadata": {},
   "outputs": [],
   "source": [
    "#Add in data analytics tools here for analysis of the different data sets together"
   ]
  }
 ],
 "metadata": {
  "kernelspec": {
   "display_name": "Python 3",
   "language": "python",
   "name": "python3"
  },
  "language_info": {
   "codemirror_mode": {
    "name": "ipython",
    "version": 3
   },
   "file_extension": ".py",
   "mimetype": "text/x-python",
   "name": "python",
   "nbconvert_exporter": "python",
   "pygments_lexer": "ipython3",
   "version": "3.7.3"
  }
 },
 "nbformat": 4,
 "nbformat_minor": 4
}
